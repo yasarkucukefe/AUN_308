{
 "cells": [
  {
   "cell_type": "markdown",
   "id": "2285f86e",
   "metadata": {},
   "source": [
    "### Aşağıdaki soruları NumPy kütüphanesini kullanarak cevaplayınız. Kod yazılması için boş bırakılmış hücreleri kullanınız veya gerekirse yenilerini ekleyiniz."
   ]
  },
  {
   "cell_type": "markdown",
   "id": "c831e0de",
   "metadata": {},
   "source": [
    "### Soru-1\n",
    "NumPy kullanarak 3x4 boyutunda, 0 ile 100 arasında rastgele tam sayılardan oluşan bir matris oluşturun. Bu matrisin satır ve sütun ortalamalarını ayrı ayrı hesaplayın."
   ]
  },
  {
   "cell_type": "code",
   "execution_count": null,
   "id": "fa1761ca",
   "metadata": {},
   "outputs": [],
   "source": [
    "# 1. sorunun cevabı"
   ]
  },
  {
   "cell_type": "code",
   "execution_count": null,
   "id": "2fd387b7",
   "metadata": {},
   "outputs": [],
   "source": [
    "# 1. sorunun cevabı"
   ]
  },
  {
   "cell_type": "markdown",
   "id": "69a5e47a",
   "metadata": {},
   "source": [
    "### Soru-2\n",
    "Bir boyutlu bir NumPy dizisi oluşturun: np.arange(1,21)\n",
    "* Bu dizideki çift sayıları bulun\n",
    "* Bu çift sayıların karesini alıp yeni bir dizi oluşturun\n",
    "* Bu yeni dizide, 100'den büyük olan değerleri yazdırın."
   ]
  },
  {
   "cell_type": "code",
   "execution_count": null,
   "id": "b729b30b",
   "metadata": {},
   "outputs": [],
   "source": [
    "# 2. sorunun cevabı"
   ]
  },
  {
   "cell_type": "code",
   "execution_count": null,
   "id": "c6cc6fda",
   "metadata": {},
   "outputs": [],
   "source": [
    "# 2. sorunun cevabı"
   ]
  },
  {
   "cell_type": "code",
   "execution_count": null,
   "id": "268b051c",
   "metadata": {},
   "outputs": [],
   "source": [
    "# 2. sorunun cevabı"
   ]
  },
  {
   "cell_type": "markdown",
   "id": "1bdc6a96",
   "metadata": {},
   "source": [
    "### Soru-3:\n",
    "5x5 boyutunda birim matris (identity matrix) oluşturun.\n",
    "* Bu matrisin köşegenini (diagonal) 5 ile çarpın.\n",
    "* Ortaya çıkan matrisi yazdırın."
   ]
  },
  {
   "cell_type": "code",
   "execution_count": null,
   "id": "31bc39ae",
   "metadata": {},
   "outputs": [],
   "source": [
    "# 3. sorunun cevabı"
   ]
  },
  {
   "cell_type": "code",
   "execution_count": null,
   "id": "9f44451d",
   "metadata": {},
   "outputs": [],
   "source": [
    "# 3. sorunun cevabı"
   ]
  },
  {
   "cell_type": "markdown",
   "id": "7050fc47",
   "metadata": {},
   "source": [
    "### Soru-4:\n",
    "Aşağıdaki listeyi NumPy dizisine çeviriniz.\n",
    "* Her sütunun standart sapmasını (std) hesaplayın.\n",
    "* En büyük standart sapmaya sahip sütunu belirtin."
   ]
  },
  {
   "cell_type": "code",
   "execution_count": 1,
   "id": "442ab12a",
   "metadata": {},
   "outputs": [],
   "source": [
    "liste = [[3, 5, 2], [4, 7, 6], [1, 0, 9]]"
   ]
  },
  {
   "cell_type": "code",
   "execution_count": null,
   "id": "c02901f1",
   "metadata": {},
   "outputs": [],
   "source": [
    "# 4. sorunun cevabı"
   ]
  },
  {
   "cell_type": "code",
   "execution_count": null,
   "id": "cece0e9d",
   "metadata": {},
   "outputs": [],
   "source": [
    "# 4. sorunun cevabı"
   ]
  },
  {
   "cell_type": "markdown",
   "id": "2307227b",
   "metadata": {},
   "source": [
    "### Soru-5\n",
    "Bir dizinin elemanlarını küçükten büyüğe ve büyükten küçüğe sıralayan iki ayrı NumPy fonksiyonu yazınız. Fonksiyonlara örnek bir NumPy dizisi göndererek çalışmasını gösteriniz."
   ]
  },
  {
   "cell_type": "code",
   "execution_count": null,
   "id": "b9cfbc8c",
   "metadata": {},
   "outputs": [],
   "source": [
    "# 5. sorunun cevabı"
   ]
  },
  {
   "cell_type": "code",
   "execution_count": null,
   "id": "1643b830",
   "metadata": {},
   "outputs": [],
   "source": [
    "# 5. sorunun cevabı"
   ]
  },
  {
   "cell_type": "code",
   "execution_count": null,
   "id": "de69f89c",
   "metadata": {},
   "outputs": [],
   "source": [
    "# 5. sorunun cevabı"
   ]
  }
 ],
 "metadata": {
  "kernelspec": {
   "display_name": "Python 3 (ipykernel)",
   "language": "python",
   "name": "python3"
  },
  "language_info": {
   "codemirror_mode": {
    "name": "ipython",
    "version": 3
   },
   "file_extension": ".py",
   "mimetype": "text/x-python",
   "name": "python",
   "nbconvert_exporter": "python",
   "pygments_lexer": "ipython3",
   "version": "3.10.8"
  }
 },
 "nbformat": 4,
 "nbformat_minor": 5
}
