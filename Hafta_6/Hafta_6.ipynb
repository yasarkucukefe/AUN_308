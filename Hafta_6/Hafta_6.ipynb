{
 "cells": [
  {
   "cell_type": "code",
   "execution_count": 1,
   "id": "78d41a9c",
   "metadata": {},
   "outputs": [],
   "source": [
    "import numpy as np"
   ]
  },
  {
   "cell_type": "code",
   "execution_count": 2,
   "id": "2879a987",
   "metadata": {},
   "outputs": [],
   "source": [
    "liste1 = np.arange(5) # sıfırdan başlayarak 1 artıp 5'ten küçük tam sayılar"
   ]
  },
  {
   "cell_type": "code",
   "execution_count": 3,
   "id": "6f7ab43f",
   "metadata": {},
   "outputs": [
    {
     "name": "stdout",
     "output_type": "stream",
     "text": [
      "[0 1 2 3 4]\n"
     ]
    }
   ],
   "source": [
    "print(liste1)"
   ]
  },
  {
   "cell_type": "code",
   "execution_count": 4,
   "id": "b4bfecde",
   "metadata": {},
   "outputs": [],
   "source": [
    "liste2 = np.arange(1,6)# 1,2,3,4,5"
   ]
  },
  {
   "cell_type": "code",
   "execution_count": 8,
   "id": "17622b43",
   "metadata": {},
   "outputs": [
    {
     "name": "stdout",
     "output_type": "stream",
     "text": [
      "[0.0, 0.5, 0.6666666666666666, 0.75, 0.8]\n"
     ]
    }
   ],
   "source": [
    "# liste1 elemanlarını liste2 elemanlarına bire bir şekilde bölerek yeni bir liste oluşturmak isteniyor.\n",
    "# [0/1, 1/2, 2/3, 3/4, 4/5]\n",
    "\n",
    "liste3 = []\n",
    "for i,j in zip(liste1, liste2):\n",
    "    oran = i/j\n",
    "    liste3.append(oran)\n",
    "\n",
    "print(liste3)\n",
    "    "
   ]
  },
  {
   "cell_type": "code",
   "execution_count": 9,
   "id": "1b1541d0",
   "metadata": {},
   "outputs": [],
   "source": [
    "liste4 = liste1 / liste2"
   ]
  },
  {
   "cell_type": "code",
   "execution_count": 10,
   "id": "a26e76bb",
   "metadata": {},
   "outputs": [
    {
     "name": "stdout",
     "output_type": "stream",
     "text": [
      "[0.         0.5        0.66666667 0.75       0.8       ]\n"
     ]
    }
   ],
   "source": [
    "print(liste4)"
   ]
  },
  {
   "cell_type": "code",
   "execution_count": 11,
   "id": "9915bdc3",
   "metadata": {},
   "outputs": [
    {
     "data": {
      "text/plain": [
       "array([1, 2, 3, 4, 5])"
      ]
     },
     "execution_count": 11,
     "metadata": {},
     "output_type": "execute_result"
    }
   ],
   "source": [
    "liste1 + 1 # bütün liste1 elemenları 1 ile toplanır"
   ]
  },
  {
   "cell_type": "code",
   "execution_count": 12,
   "id": "564d6a0f",
   "metadata": {},
   "outputs": [
    {
     "data": {
      "text/plain": [
       "array([ 0. ,  0.5,  1. ,  1.5,  2. ,  2.5,  3. ,  3.5,  4. ,  4.5,  5. ,\n",
       "        5.5,  6. ,  6.5,  7. ,  7.5,  8. ,  8.5,  9. ,  9.5, 10. , 10.5,\n",
       "       11. , 11.5, 12. , 12.5, 13. , 13.5, 14. , 14.5, 15. , 15.5, 16. ,\n",
       "       16.5, 17. , 17.5, 18. , 18.5, 19. , 19.5, 20. , 20.5, 21. , 21.5,\n",
       "       22. , 22.5, 23. , 23.5, 24. , 24.5, 25. , 25.5, 26. , 26.5, 27. ,\n",
       "       27.5, 28. , 28.5, 29. , 29.5, 30. , 30.5, 31. , 31.5, 32. , 32.5,\n",
       "       33. , 33.5, 34. , 34.5, 35. , 35.5, 36. , 36.5, 37. , 37.5, 38. ,\n",
       "       38.5, 39. , 39.5, 40. , 40.5, 41. , 41.5, 42. , 42.5, 43. , 43.5,\n",
       "       44. , 44.5, 45. , 45.5, 46. , 46.5, 47. , 47.5, 48. , 48.5, 49. ,\n",
       "       49.5])"
      ]
     },
     "execution_count": 12,
     "metadata": {},
     "output_type": "execute_result"
    }
   ],
   "source": [
    "np.arange(100) / 2"
   ]
  },
  {
   "cell_type": "code",
   "execution_count": 13,
   "id": "3c81f627",
   "metadata": {},
   "outputs": [
    {
     "data": {
      "text/plain": [
       "array([0, 0, 1, 1, 2, 2, 3, 3, 4, 4], dtype=int32)"
      ]
     },
     "execution_count": 13,
     "metadata": {},
     "output_type": "execute_result"
    }
   ],
   "source": [
    "np.arange(10) // 2 # floor division: 2'ye bölünüce sonucun alt sınırı olan tamsayı: 9 // 2 = 4"
   ]
  },
  {
   "cell_type": "code",
   "execution_count": 14,
   "id": "8de694a2",
   "metadata": {},
   "outputs": [
    {
     "name": "stdout",
     "output_type": "stream",
     "text": [
      "[0 1 2 3]\n"
     ]
    }
   ],
   "source": [
    "x = np.arange(4)\n",
    "print(x)"
   ]
  },
  {
   "cell_type": "code",
   "execution_count": 15,
   "id": "efc2db6f",
   "metadata": {},
   "outputs": [
    {
     "data": {
      "text/plain": [
       "array([0, 1, 4, 9])"
      ]
     },
     "execution_count": 15,
     "metadata": {},
     "output_type": "execute_result"
    }
   ],
   "source": [
    "x ** 2 # her bir elemanın karesi"
   ]
  },
  {
   "cell_type": "code",
   "execution_count": 16,
   "id": "84bc0c51",
   "metadata": {},
   "outputs": [
    {
     "data": {
      "text/plain": [
       "array([0, 1, 0, 1], dtype=int32)"
      ]
     },
     "execution_count": 16,
     "metadata": {},
     "output_type": "execute_result"
    }
   ],
   "source": [
    "x % 2 # Modulus operator, 2'ye bölünüce kalan "
   ]
  },
  {
   "cell_type": "code",
   "execution_count": 17,
   "id": "62b2197a",
   "metadata": {},
   "outputs": [
    {
     "data": {
      "text/plain": [
       "array([0, 1, 2, 0], dtype=int32)"
      ]
     },
     "execution_count": 17,
     "metadata": {},
     "output_type": "execute_result"
    }
   ],
   "source": [
    "x % 3 # Modulus operator, 3'e bölünüce kalan "
   ]
  },
  {
   "cell_type": "code",
   "execution_count": 19,
   "id": "17bec19e",
   "metadata": {},
   "outputs": [
    {
     "data": {
      "text/plain": [
       "array([-1.  , -2.25, -4.  , -6.25])"
      ]
     },
     "execution_count": 19,
     "metadata": {},
     "output_type": "execute_result"
    }
   ],
   "source": [
    "-(0.5 * x + 1) ** 2 #"
   ]
  },
  {
   "cell_type": "code",
   "execution_count": 20,
   "id": "b3a4775a",
   "metadata": {},
   "outputs": [
    {
     "data": {
      "text/plain": [
       "array([1, 2, 3, 4])"
      ]
     },
     "execution_count": 20,
     "metadata": {},
     "output_type": "execute_result"
    }
   ],
   "source": [
    "np.add(x, 1) # x + 1"
   ]
  },
  {
   "cell_type": "code",
   "execution_count": 21,
   "id": "9e5aac33",
   "metadata": {},
   "outputs": [],
   "source": [
    "x = np.array([-2, -1, 0, 1, 2])"
   ]
  },
  {
   "cell_type": "code",
   "execution_count": 22,
   "id": "ca96f303",
   "metadata": {},
   "outputs": [
    {
     "data": {
      "text/plain": [
       "array([2, 1, 0, 1, 2])"
      ]
     },
     "execution_count": 22,
     "metadata": {},
     "output_type": "execute_result"
    }
   ],
   "source": [
    "abs(x) # mutlak değer abs()"
   ]
  },
  {
   "cell_type": "code",
   "execution_count": 23,
   "id": "9f31259e",
   "metadata": {},
   "outputs": [],
   "source": [
    "from scipy import special"
   ]
  },
  {
   "cell_type": "code",
   "execution_count": 25,
   "id": "0ac009cb",
   "metadata": {},
   "outputs": [
    {
     "name": "stdout",
     "output_type": "stream",
     "text": [
      "gamma(x) = [1.0000e+00 2.4000e+01 3.6288e+05]\n"
     ]
    }
   ],
   "source": [
    "x = [1, 5, 10]\n",
    "print(f\"gamma(x) = {special.gamma(x)}\")"
   ]
  },
  {
   "cell_type": "code",
   "execution_count": 32,
   "id": "e60ffe8e",
   "metadata": {},
   "outputs": [
    {
     "name": "stdout",
     "output_type": "stream",
     "text": [
      "erf(x) =  [0.         0.32862676 0.67780119 0.84270079]\n"
     ]
    }
   ],
   "source": [
    "x = np.array([0, 0.3, 0.7, 1.0])\n",
    "print(\"erf(x) = \",special.erf(x))\n"
   ]
  },
  {
   "cell_type": "code",
   "execution_count": 34,
   "id": "bb105d80",
   "metadata": {},
   "outputs": [
    {
     "data": {
      "text/plain": [
       "15"
      ]
     },
     "execution_count": 34,
     "metadata": {},
     "output_type": "execute_result"
    }
   ],
   "source": [
    "# Aggregate işlemeler\n",
    "x = np.arange(1,6) # 1,2,3,4,5\n",
    "np.add.reduce(x) # 15"
   ]
  },
  {
   "cell_type": "code",
   "execution_count": 35,
   "id": "8e23dd57",
   "metadata": {},
   "outputs": [
    {
     "data": {
      "text/plain": [
       "120"
      ]
     },
     "execution_count": 35,
     "metadata": {},
     "output_type": "execute_result"
    }
   ],
   "source": [
    "np.multiply.reduce(x) # 1 x 2 x 3 x 4 x 5"
   ]
  },
  {
   "cell_type": "code",
   "execution_count": 37,
   "id": "c3db9542",
   "metadata": {},
   "outputs": [
    {
     "data": {
      "text/plain": [
       "array([ 1,  3,  6, 10, 15])"
      ]
     },
     "execution_count": 37,
     "metadata": {},
     "output_type": "execute_result"
    }
   ],
   "source": [
    "np.add.accumulate(x) # 1, 3, 6, ..."
   ]
  },
  {
   "cell_type": "code",
   "execution_count": 38,
   "id": "f1df63bf",
   "metadata": {},
   "outputs": [
    {
     "data": {
      "text/plain": [
       "array([  1,   2,   6,  24, 120])"
      ]
     },
     "execution_count": 38,
     "metadata": {},
     "output_type": "execute_result"
    }
   ],
   "source": [
    "np.multiply.accumulate(x)"
   ]
  },
  {
   "cell_type": "code",
   "execution_count": 45,
   "id": "ee726fe9",
   "metadata": {},
   "outputs": [
    {
     "data": {
      "text/plain": [
       "52.944656325644246"
      ]
     },
     "execution_count": 45,
     "metadata": {},
     "output_type": "execute_result"
    }
   ],
   "source": [
    "# Array işlemleri\n",
    "L = np.random.random(100)\n",
    "np.sum(L)"
   ]
  },
  {
   "cell_type": "code",
   "execution_count": 46,
   "id": "fabbf9bb",
   "metadata": {},
   "outputs": [
    {
     "data": {
      "text/plain": [
       "52.944656325644225"
      ]
     },
     "execution_count": 46,
     "metadata": {},
     "output_type": "execute_result"
    }
   ],
   "source": [
    "sum(L)"
   ]
  },
  {
   "cell_type": "code",
   "execution_count": 48,
   "id": "bfc602db",
   "metadata": {},
   "outputs": [
    {
     "name": "stdout",
     "output_type": "stream",
     "text": [
      "27 ms ± 3.38 ms per loop (mean ± std. dev. of 7 runs, 10 loops each)\n",
      "91.5 µs ± 7.38 µs per loop (mean ± std. dev. of 7 runs, 10,000 loops each)\n"
     ]
    }
   ],
   "source": [
    "big_array = np.random.rand(100000)\n",
    "%timeit sum(big_array)\n",
    "%timeit np.sum(big_array)"
   ]
  },
  {
   "cell_type": "code",
   "execution_count": 49,
   "id": "2316fee5",
   "metadata": {},
   "outputs": [
    {
     "data": {
      "text/plain": [
       "5.049937981116415e-06"
      ]
     },
     "execution_count": 49,
     "metadata": {},
     "output_type": "execute_result"
    }
   ],
   "source": [
    "np.min(big_array) # array'daki minimum değeri"
   ]
  },
  {
   "cell_type": "code",
   "execution_count": 50,
   "id": "dc8c85e4",
   "metadata": {},
   "outputs": [
    {
     "data": {
      "text/plain": [
       "0.9999942430524312"
      ]
     },
     "execution_count": 50,
     "metadata": {},
     "output_type": "execute_result"
    }
   ],
   "source": [
    "np.max(big_array) # array'daki maximum değer"
   ]
  },
  {
   "cell_type": "code",
   "execution_count": 52,
   "id": "93dce4b8",
   "metadata": {},
   "outputs": [
    {
     "name": "stdout",
     "output_type": "stream",
     "text": [
      "[[0.5838846  0.59708385 0.62190672 0.72915159]\n",
      " [0.19150318 0.72810192 0.00173727 0.51978691]\n",
      " [0.77824066 0.21269988 0.54763936 0.46992988]]\n"
     ]
    }
   ],
   "source": [
    "M = np.random.random((3,4))\n",
    "print(M)"
   ]
  },
  {
   "cell_type": "code",
   "execution_count": 53,
   "id": "bd3da12a",
   "metadata": {},
   "outputs": [
    {
     "data": {
      "text/plain": [
       "array([0.19150318, 0.21269988, 0.00173727, 0.46992988])"
      ]
     },
     "execution_count": 53,
     "metadata": {},
     "output_type": "execute_result"
    }
   ],
   "source": [
    "M.min(axis=0) # Kolonların minimum değerleri"
   ]
  },
  {
   "cell_type": "code",
   "execution_count": 54,
   "id": "ebf0a7b4",
   "metadata": {},
   "outputs": [
    {
     "data": {
      "text/plain": [
       "array([0.5838846 , 0.00173727, 0.21269988])"
      ]
     },
     "execution_count": 54,
     "metadata": {},
     "output_type": "execute_result"
    }
   ],
   "source": [
    "M.min(axis=1) # Satırların minimum değerleri"
   ]
  },
  {
   "cell_type": "code",
   "execution_count": 55,
   "id": "8abc0a2e",
   "metadata": {},
   "outputs": [
    {
     "data": {
      "text/plain": [
       "array([ True,  True, False, False, False])"
      ]
     },
     "execution_count": 55,
     "metadata": {},
     "output_type": "execute_result"
    }
   ],
   "source": [
    "# Numpy'da karşılaştırma operatorleri\n",
    "x = np.array([1,2,3,4,5]) # np.arange(6)\n",
    "x < 3 "
   ]
  },
  {
   "cell_type": "code",
   "execution_count": 56,
   "id": "9c2f7a81",
   "metadata": {},
   "outputs": [
    {
     "data": {
      "text/plain": [
       "array([False, False, False,  True,  True])"
      ]
     },
     "execution_count": 56,
     "metadata": {},
     "output_type": "execute_result"
    }
   ],
   "source": [
    "x > 3"
   ]
  },
  {
   "cell_type": "code",
   "execution_count": 57,
   "id": "244e29d1",
   "metadata": {},
   "outputs": [
    {
     "data": {
      "text/plain": [
       "2"
      ]
     },
     "execution_count": 57,
     "metadata": {},
     "output_type": "execute_result"
    }
   ],
   "source": [
    "np.count_nonzero(x < 3)"
   ]
  },
  {
   "cell_type": "code",
   "execution_count": 58,
   "id": "82348b71",
   "metadata": {},
   "outputs": [
    {
     "data": {
      "text/plain": [
       "2"
      ]
     },
     "execution_count": 58,
     "metadata": {},
     "output_type": "execute_result"
    }
   ],
   "source": [
    "np.sum(x < 3) # kaç tane değer 3'te küçüktür"
   ]
  },
  {
   "cell_type": "code",
   "execution_count": 59,
   "id": "67dc5be8",
   "metadata": {},
   "outputs": [
    {
     "name": "stdout",
     "output_type": "stream",
     "text": [
      "[[0.5838846  0.59708385 0.62190672 0.72915159]\n",
      " [0.19150318 0.72810192 0.00173727 0.51978691]\n",
      " [0.77824066 0.21269988 0.54763936 0.46992988]]\n"
     ]
    }
   ],
   "source": [
    "print(M)"
   ]
  },
  {
   "cell_type": "code",
   "execution_count": 61,
   "id": "a6aaf3ce",
   "metadata": {},
   "outputs": [
    {
     "data": {
      "text/plain": [
       "array([0, 2, 2])"
      ]
     },
     "execution_count": 61,
     "metadata": {},
     "output_type": "execute_result"
    }
   ],
   "source": [
    "np.sum( M < 0.5, axis = 1) # her bir satırda kaç tane değer 0.5'ten küçüktür"
   ]
  },
  {
   "cell_type": "code",
   "execution_count": 63,
   "id": "7727103f",
   "metadata": {},
   "outputs": [
    {
     "data": {
      "text/plain": [
       "array([ True,  True, False,  True])"
      ]
     },
     "execution_count": 63,
     "metadata": {},
     "output_type": "execute_result"
    }
   ],
   "source": [
    "np.any(M > 0.7, axis = 0) # Satır elemanlarından 0.7'den büyük olan var mı?"
   ]
  },
  {
   "cell_type": "code",
   "execution_count": 64,
   "id": "1acdb41e",
   "metadata": {},
   "outputs": [
    {
     "data": {
      "text/plain": [
       "True"
      ]
     },
     "execution_count": 64,
     "metadata": {},
     "output_type": "execute_result"
    }
   ],
   "source": [
    "np.all(M < 0.9)"
   ]
  },
  {
   "cell_type": "code",
   "execution_count": 65,
   "id": "abd1fa9e",
   "metadata": {},
   "outputs": [
    {
     "data": {
      "text/plain": [
       "False"
      ]
     },
     "execution_count": 65,
     "metadata": {},
     "output_type": "execute_result"
    }
   ],
   "source": [
    "np.all(M < 0.7)"
   ]
  },
  {
   "cell_type": "code",
   "execution_count": 66,
   "id": "e73ac5ec",
   "metadata": {},
   "outputs": [
    {
     "name": "stdout",
     "output_type": "stream",
     "text": [
      "[0 1 2 3 4 5 6 7 8 9]\n"
     ]
    }
   ],
   "source": [
    "x = np.arange(10)\n",
    "print(x)"
   ]
  },
  {
   "cell_type": "code",
   "execution_count": 67,
   "id": "a1d6e598",
   "metadata": {},
   "outputs": [
    {
     "data": {
      "text/plain": [
       "array([0, 1, 2, 3, 4, 5, 6])"
      ]
     },
     "execution_count": 67,
     "metadata": {},
     "output_type": "execute_result"
    }
   ],
   "source": [
    "x[x < 7] # x array'inde 7'den küçük olan elemanlar"
   ]
  },
  {
   "cell_type": "code",
   "execution_count": 68,
   "id": "b6cdee14",
   "metadata": {},
   "outputs": [
    {
     "name": "stdout",
     "output_type": "stream",
     "text": [
      "[14 81 13 12 52 54  6 30 53 24]\n"
     ]
    }
   ],
   "source": [
    "# Fancy Indexing\n",
    "x = np.random.randint(100, size=10)\n",
    "print(x)"
   ]
  },
  {
   "cell_type": "code",
   "execution_count": 69,
   "id": "84f9aa50",
   "metadata": {},
   "outputs": [
    {
     "data": {
      "text/plain": [
       "[12, 30, 13]"
      ]
     },
     "execution_count": 69,
     "metadata": {},
     "output_type": "execute_result"
    }
   ],
   "source": [
    "[x[3], x[7], x[2]]"
   ]
  },
  {
   "cell_type": "code",
   "execution_count": 71,
   "id": "587b5f5a",
   "metadata": {},
   "outputs": [
    {
     "data": {
      "text/plain": [
       "array([12, 30, 13])"
      ]
     },
     "execution_count": 71,
     "metadata": {},
     "output_type": "execute_result"
    }
   ],
   "source": [
    "indeksler = [3, 7, 2]\n",
    "x[indeksler]"
   ]
  },
  {
   "cell_type": "code",
   "execution_count": 72,
   "id": "217f08a2",
   "metadata": {},
   "outputs": [
    {
     "data": {
      "text/plain": [
       "array([ 1,  2,  2,  3,  4,  6,  9, 52])"
      ]
     },
     "execution_count": 72,
     "metadata": {},
     "output_type": "execute_result"
    }
   ],
   "source": [
    "# Numpy array elemanlarının sıralanması (sort)\n",
    "x = np.array([3,4,52,1,2,6,9,2])\n",
    "np.sort(x) # x array elemanları küçükten büyüğe doğru sıralanır."
   ]
  },
  {
   "cell_type": "code",
   "execution_count": 73,
   "id": "c51fb43c",
   "metadata": {},
   "outputs": [
    {
     "data": {
      "text/plain": [
       "array([3, 4, 7, 0, 1, 5, 6, 2], dtype=int64)"
      ]
     },
     "execution_count": 73,
     "metadata": {},
     "output_type": "execute_result"
    }
   ],
   "source": [
    "np.argsort(x) # küçükten büyüğe doğru sıralama için index orjinal array index numaralarını listeler"
   ]
  },
  {
   "cell_type": "code",
   "execution_count": 76,
   "id": "7d783d64",
   "metadata": {},
   "outputs": [
    {
     "name": "stdout",
     "output_type": "stream",
     "text": [
      "[[5 7 5 7 6 3]\n",
      " [1 0 7 4 5 1]\n",
      " [9 3 5 3 4 0]\n",
      " [9 0 1 5 8 9]]\n"
     ]
    }
   ],
   "source": [
    "X = np.random.randint(0,10,(4,6))\n",
    "print(X)"
   ]
  },
  {
   "cell_type": "code",
   "execution_count": 77,
   "id": "247da922",
   "metadata": {},
   "outputs": [
    {
     "data": {
      "text/plain": [
       "array([[3, 5, 5, 6, 7, 7],\n",
       "       [0, 1, 1, 4, 5, 7],\n",
       "       [0, 3, 3, 4, 5, 9],\n",
       "       [0, 1, 5, 8, 9, 9]])"
      ]
     },
     "execution_count": 77,
     "metadata": {},
     "output_type": "execute_result"
    }
   ],
   "source": [
    "np.sort(X, axis=1) # her bir satır bağımsız olarak küçükten büyüğe sıralanır"
   ]
  },
  {
   "cell_type": "code",
   "execution_count": 78,
   "id": "3ce5f910",
   "metadata": {},
   "outputs": [
    {
     "data": {
      "text/plain": [
       "array([[1, 0, 1, 3, 4, 0],\n",
       "       [5, 0, 5, 4, 5, 1],\n",
       "       [9, 3, 5, 5, 6, 3],\n",
       "       [9, 7, 7, 7, 8, 9]])"
      ]
     },
     "execution_count": 78,
     "metadata": {},
     "output_type": "execute_result"
    }
   ],
   "source": [
    "np.sort(X, axis=0) # her bir kolon bağımsız olarak küçükten büyüğe sıralanır"
   ]
  },
  {
   "cell_type": "code",
   "execution_count": 79,
   "id": "98f162a7",
   "metadata": {},
   "outputs": [
    {
     "data": {
      "text/plain": [
       "array([[3, 5, 5, 6, 7, 7],\n",
       "       [0, 1, 1, 4, 5, 7],\n",
       "       [0, 3, 3, 4, 5, 9],\n",
       "       [0, 1, 5, 8, 9, 9]])"
      ]
     },
     "execution_count": 79,
     "metadata": {},
     "output_type": "execute_result"
    }
   ],
   "source": [
    "np.sort(X) # # her bir satır bağımsız olarak küçükten büyüğe sıralanır, axis belirtilmezse 1 olarak alınır. np.sort(X, axis=1)"
   ]
  },
  {
   "cell_type": "code",
   "execution_count": 84,
   "id": "5cc094ae",
   "metadata": {},
   "outputs": [],
   "source": [
    "import matplotlib.pyplot as plt\n",
    "import seaborn"
   ]
  },
  {
   "cell_type": "code",
   "execution_count": 92,
   "id": "cd50e19f",
   "metadata": {},
   "outputs": [],
   "source": [
    "X = np.random.rand(10,2)"
   ]
  },
  {
   "cell_type": "code",
   "execution_count": 94,
   "id": "63a2870f",
   "metadata": {},
   "outputs": [
    {
     "name": "stdout",
     "output_type": "stream",
     "text": [
      "[[0.98805313 0.74080561]\n",
      " [0.72979331 0.2913927 ]\n",
      " [0.2785309  0.47106463]\n",
      " [0.32001257 0.2334567 ]\n",
      " [0.1691066  0.1987607 ]\n",
      " [0.45880811 0.36187948]\n",
      " [0.89551365 0.389591  ]\n",
      " [0.396672   0.56085474]\n",
      " [0.8481231  0.16275308]\n",
      " [0.63263775 0.10110988]]\n"
     ]
    }
   ],
   "source": [
    "print(X)"
   ]
  },
  {
   "cell_type": "code",
   "execution_count": 93,
   "id": "25f4b926",
   "metadata": {},
   "outputs": [
    {
     "data": {
      "text/plain": [
       "<matplotlib.collections.PathCollection at 0x2037e5a3f70>"
      ]
     },
     "execution_count": 93,
     "metadata": {},
     "output_type": "execute_result"
    },
    {
     "data": {
      "image/png": "[encoded data removed]",
      "text/plain": [
       "<Figure size 640x480 with 1 Axes>"
      ]
     },
     "metadata": {},
     "output_type": "display_data"
    }
   ],
   "source": [
    "plt.scatter(X[:, 0], X[:,1], s=100)"
   ]
  },
  {
   "cell_type": "code",
   "execution_count": 97,
   "id": "d4aca738",
   "metadata": {},
   "outputs": [],
   "source": [
    "dist_sq = np.sum((X[:, np.newaxis, :] - X[np.newaxis, :, :])**2, axis = -1) "
   ]
  },
  {
   "cell_type": "code",
   "execution_count": 100,
   "id": "746889dd",
   "metadata": {},
   "outputs": [
    {
     "data": {
      "text/plain": [
       "(10, 10, 2)"
      ]
     },
     "execution_count": 100,
     "metadata": {},
     "output_type": "execute_result"
    }
   ],
   "source": [
    "differences = X[:, np.newaxis, :] - X[np.newaxis, :, :]\n",
    "differences.shape"
   ]
  },
  {
   "cell_type": "code",
   "execution_count": 101,
   "id": "31d70175",
   "metadata": {},
   "outputs": [
    {
     "data": {
      "text/plain": [
       "(10, 10)"
      ]
     },
     "execution_count": 101,
     "metadata": {},
     "output_type": "execute_result"
    }
   ],
   "source": [
    "sq_differences = differences ** 2\n",
    "dist_sq = sq_differences.sum(-1)\n",
    "dist_sq.shape"
   ]
  },
  {
   "cell_type": "code",
   "execution_count": 103,
   "id": "51d60f9b",
   "metadata": {},
   "outputs": [
    {
     "data": {
      "text/plain": [
       "array([0., 0., 0., 0., 0., 0., 0., 0., 0., 0.])"
      ]
     },
     "execution_count": 103,
     "metadata": {},
     "output_type": "execute_result"
    }
   ],
   "source": [
    "dist_sq.diagonal()"
   ]
  },
  {
   "cell_type": "code",
   "execution_count": 104,
   "id": "2a64cbe1",
   "metadata": {},
   "outputs": [
    {
     "data": {
      "text/plain": [
       "array([0.        , 0.2686701 , 0.57618198, 0.7036811 , 0.9644861 ,\n",
       "       0.4236853 , 0.13191526, 0.38211395, 0.35372514, 0.53553072])"
      ]
     },
     "execution_count": 104,
     "metadata": {},
     "output_type": "execute_result"
    }
   ],
   "source": [
    "dist_sq[0,:]"
   ]
  },
  {
   "cell_type": "code",
   "execution_count": 105,
   "id": "f4d80a22",
   "metadata": {},
   "outputs": [
    {
     "name": "stdout",
     "output_type": "stream",
     "text": [
      "[[0 6 1 8 7 5 9 2 3 4]\n",
      " [1 8 6 9 5 3 7 2 0 4]\n",
      " [2 7 5 3 4 1 9 6 8 0]\n",
      " [3 4 5 2 7 9 1 8 6 0]\n",
      " [4 3 2 5 7 9 1 8 6 0]\n",
      " [5 3 7 2 1 9 4 8 6 0]\n",
      " [6 1 8 0 9 5 7 3 2 4]\n",
      " [7 2 5 3 4 1 9 6 8 0]\n",
      " [8 1 9 6 5 3 0 7 2 4]\n",
      " [9 1 8 5 3 6 4 2 7 0]]\n"
     ]
    }
   ],
   "source": [
    "nearest = np.argsort(dist_sq, axis = 1)\n",
    "print(nearest)"
   ]
  },
  {
   "cell_type": "code",
   "execution_count": 106,
   "id": "daa9e8c5",
   "metadata": {},
   "outputs": [],
   "source": [
    "K = 2\n",
    "nearest_partition = np.argpartition(dist_sq, K+1, axis = 1)"
   ]
  },
  {
   "cell_type": "code",
   "execution_count": 107,
   "id": "3118c876",
   "metadata": {},
   "outputs": [
    {
     "data": {
      "text/plain": [
       "array([[1, 6, 0, 8, 7, 5, 9, 3, 2, 4],\n",
       "       [8, 1, 6, 9, 5, 3, 2, 7, 0, 4],\n",
       "       [2, 7, 5, 3, 1, 4, 9, 6, 8, 0],\n",
       "       [3, 5, 4, 2, 7, 9, 6, 1, 8, 0],\n",
       "       [3, 2, 4, 5, 7, 9, 6, 1, 8, 0],\n",
       "       [3, 5, 7, 2, 1, 9, 4, 6, 8, 0],\n",
       "       [6, 1, 8, 0, 9, 5, 3, 7, 2, 4],\n",
       "       [7, 2, 5, 3, 1, 4, 9, 6, 8, 0],\n",
       "       [1, 8, 9, 6, 3, 5, 0, 7, 2, 4],\n",
       "       [1, 8, 9, 5, 3, 6, 4, 7, 2, 0]], dtype=int64)"
      ]
     },
     "execution_count": 107,
     "metadata": {},
     "output_type": "execute_result"
    }
   ],
   "source": [
    "nearest_partition"
   ]
  },
  {
   "cell_type": "code",
   "execution_count": 108,
   "id": "163bcc02",
   "metadata": {},
   "outputs": [
    {
     "data": {
      "image/png": "[encoded data removed]",
      "text/plain": [
       "<Figure size 640x480 with 1 Axes>"
      ]
     },
     "metadata": {},
     "output_type": "display_data"
    }
   ],
   "source": [
    "plt.scatter(X[:, 0], X[:,1], s=100)\n",
    "K=2\n",
    "\n",
    "for i in range(X.shape[0]):\n",
    "    for j in nearest_partition[i, :K+1]:\n",
    "        plt.plot(*zip(X[j], X[i]), color='black')"
   ]
  }
 ],
 "metadata": {
  "kernelspec": {
   "display_name": "Python 3 (ipykernel)",
   "language": "python",
   "name": "python3"
  },
  "language_info": {
   "codemirror_mode": {
    "name": "ipython",
    "version": 3
   },
   "file_extension": ".py",
   "mimetype": "text/x-python",
   "name": "python",
   "nbconvert_exporter": "python",
   "pygments_lexer": "ipython3",
   "version": "3.10.8"
  }
 },
 "nbformat": 4,
 "nbformat_minor": 5
}
